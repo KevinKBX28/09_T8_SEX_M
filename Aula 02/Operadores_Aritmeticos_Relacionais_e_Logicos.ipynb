{
  "nbformat": 4,
  "nbformat_minor": 0,
  "metadata": {
    "celltoolbar": "Slideshow",
    "interpreter": {
      "hash": "5f57edc8ab8f7b961e464cf6cce72f8527ff9370e5e237d94a18e64275e674c4"
    },
    "kernelspec": {
      "display_name": "Python 3.9.6 64-bit ('ciencia-de-dados': conda)",
      "language": "python",
      "name": "python396jvsc74a57bd05f57edc8ab8f7b961e464cf6cce72f8527ff9370e5e237d94a18e64275e674c4"
    },
    "language_info": {
      "codemirror_mode": {
        "name": "ipython",
        "version": 3
      },
      "file_extension": ".py",
      "mimetype": "text/x-python",
      "name": "python",
      "nbconvert_exporter": "python",
      "pygments_lexer": "ipython3",
      "version": "3.9.6"
    },
    "rise": {
      "autolaunch": true,
      "enable_chalkboard": true,
      "progress": true,
      "scroll": true,
      "slideNumber": true
    },
    "colab": {
      "name": "Cópia de Aula_1_Operadores_Aritmeticos_Relacionais_e_Logicos.ipynb",
      "provenance": [],
      "collapsed_sections": []
    }
  },
  "cells": [
    {
      "cell_type": "markdown",
      "metadata": {
        "id": "6tlSx9_Ocx74"
      },
      "source": [
        "[![Binder](https://mybinder.org/badge_logo.svg)](https://mybinder.org/v2/gh/storopoli/ciencia-de-dados/master?filepath=notebooks%2FAula_1_Operadores_Aritmeticos_Relacionais_e_Logicos.ipynb)\n",
        "<br>\n",
        "[![Open In Colab](https://colab.research.google.com/assets/colab-badge.svg)](https://colab.research.google.com/github/storopoli/ciencia-de-dados/blob/master/notebooks/Aula_1_Operadores_Aritmeticos_Relacionais_e_Logicos.ipynb)"
      ]
    },
    {
      "cell_type": "markdown",
      "metadata": {
        "id": "XxUj7nowcx76"
      },
      "source": [
        "# Operadores Aritméticos, Relacionais e Lógicos\n",
        "\n",
        "**Objetivos**: Apresentar variáveis, operadores aritméticos, relacionais e lógicos utilizados em Python."
      ]
    },
    {
      "cell_type": "markdown",
      "metadata": {
        "id": "RIAKS2nucx77"
      },
      "source": [
        "Documentação Python 3: https://docs.python.org/3/library/index.html"
      ]
    },
    {
      "cell_type": "markdown",
      "metadata": {
        "id": "Tz-nuH4Ecx78"
      },
      "source": [
        "## Variáveis\n",
        "\n",
        "Uma variável reserva espaço de memória para armazenar um certo tipo de dado e\n",
        "relacionado a um nome para referenciar o seu conteúdo (nome da variável).\n",
        "\n",
        "3 tipos básicos:\n",
        "* Numérico\n",
        "* Texto (String)\n",
        "* Lógico (Booleano)"
      ]
    },
    {
      "cell_type": "markdown",
      "metadata": {
        "id": "VsAN5aWfcx79"
      },
      "source": [
        "### Variáveis Numéricas\n",
        "\n",
        "Podem ser de dois tipos:\n",
        "* `int`: número inteiro\n",
        "* `float`: número real (ponto flutuante)\n",
        "\n",
        "$\n",
        "\\Delta = b^2 - 4ac\n",
        "$"
      ]
    },
    {
      "cell_type": "code",
      "metadata": {
        "id": "1PxrKWuUcx79",
        "colab": {
          "base_uri": "https://localhost:8080/"
        },
        "outputId": "37a5a1a6-49d5-4abd-cd90-43f8b7d6e349"
      },
      "source": [
        "# isto é um comentário em linha\n",
        "# outro comentário em linha\n",
        "'''\n",
        "comentário\n",
        "em\n",
        "bloco\n",
        "'''\n",
        "# uma variável em Python tem o seu \"tipo\" definido\n",
        "# a partir do valor que ela recebe\n",
        "\n",
        "x = 10 # variável do tipo inteira\n",
        "y = 8.9 # variável do tipo float\n",
        "\n",
        "# o comando type() mostra o tipo da variável\n",
        "print('Olá')\n",
        "print(type(x))\n",
        "print(type(y))\n",
        "\n",
        "x = 'Edson'\n",
        "y = True\n",
        "print(type(x))\n",
        "print(type(y))"
      ],
      "execution_count": 6,
      "outputs": [
        {
          "output_type": "stream",
          "text": [
            "Olá\n",
            "<class 'int'>\n",
            "<class 'float'>\n",
            "<class 'str'>\n",
            "<class 'bool'>\n"
          ],
          "name": "stdout"
        }
      ]
    },
    {
      "cell_type": "markdown",
      "metadata": {
        "id": "mRnsuaRicx7_"
      },
      "source": [
        "### Variáveis de Texto (`string`)\n",
        "\n",
        "Qualquer texto é uma `string`"
      ]
    },
    {
      "cell_type": "code",
      "metadata": {
        "id": "7bzAdz1Ncx7_",
        "colab": {
          "base_uri": "https://localhost:8080/"
        },
        "outputId": "5b3892c8-bf93-434f-b426-94820a468fc7"
      },
      "source": [
        "universidade = 'UNINOVE'\n",
        "logo = 'uni9 é 10'\n",
        "professor = 'Edson Melo'\n",
        "\n",
        "print(type(logo))\n",
        "print('Número de caracteres do logo: ', len(logo)) #usando ,\n",
        "print('Bem-vindo à ' + universidade +\n",
        "      ', o seu professor é ' + professor) # usando +"
      ],
      "execution_count": 7,
      "outputs": [
        {
          "output_type": "stream",
          "text": [
            "<class 'str'>\n",
            "Número de caracteres do logo:  9\n",
            "Bem-vindo à UNINOVE, o seu professor é Edson Melo\n"
          ],
          "name": "stdout"
        }
      ]
    },
    {
      "cell_type": "code",
      "metadata": {
        "colab": {
          "base_uri": "https://localhost:8080/"
        },
        "id": "Z0E7-IEWoRzN",
        "outputId": "8f93f3a5-945a-4908-cb3d-6713e74df629"
      },
      "source": [
        "a = 5\n",
        "b = 8\n",
        "\n",
        "a, b, 'Edson Melo',a * b"
      ],
      "execution_count": 15,
      "outputs": [
        {
          "output_type": "execute_result",
          "data": {
            "text/plain": [
              "(5, 8, 'Edson Melo', 40)"
            ]
          },
          "metadata": {},
          "execution_count": 15
        }
      ]
    },
    {
      "cell_type": "markdown",
      "metadata": {
        "id": "lj1lOX9-cx8A"
      },
      "source": [
        "### Variáveis Lógicas (`bool`)\n",
        "\n",
        "* Verdadeiro = `True` = $1$\n",
        "* Falso = `False` = $0$"
      ]
    },
    {
      "cell_type": "code",
      "metadata": {
        "id": "2kV00kuLcx8C",
        "outputId": "d50832ba-e051-4d87-dc7f-f672d07babd6"
      },
      "source": [
        "# True e False são sempre case sensitive\n",
        "mortalidade = True\n",
        "\n",
        "print(mortalidade)\n",
        "print(type(mortalidade))"
      ],
      "execution_count": null,
      "outputs": [
        {
          "name": "stdout",
          "output_type": "stream",
          "text": [
            "True\n",
            "<class 'bool'>\n"
          ]
        }
      ]
    },
    {
      "cell_type": "markdown",
      "metadata": {
        "id": "NDxmoA0bcx8C"
      },
      "source": [
        "## Leitura de Dados do Teclado\n",
        "\n",
        "A função utilizada para efetuar a leitura de dados a partir do teclado é a função `input()`."
      ]
    },
    {
      "cell_type": "code",
      "metadata": {
        "id": "3pSsUKYXcx8C",
        "colab": {
          "base_uri": "https://localhost:8080/"
        },
        "outputId": "56afdcb2-6ba4-48cd-8b41-d47fa7cd08d7"
      },
      "source": [
        "print(\"dados do aluno\")\n",
        "# input recebe dados do teclado no formato String\n",
        "nome = input(\"informe seu nome: \")\n",
        "idade = input (\"informe sua idade: \")\n",
        "print (nome, \"você tem\", idade, \"anos!!!\")"
      ],
      "execution_count": 16,
      "outputs": [
        {
          "output_type": "stream",
          "text": [
            "dados do aluno\n",
            "informe seu nome: Edson\n",
            "informe sua idade: 50\n",
            "Edson você tem 50 anos!!!\n"
          ],
          "name": "stdout"
        }
      ]
    },
    {
      "cell_type": "markdown",
      "metadata": {
        "id": "GpwYaypKcx8D"
      },
      "source": [
        "## Operadores Aritméticos\n",
        "\n",
        "* Soma `x + y`\n",
        "* Subtração `x - y`\n",
        "* Multiplicação `x * y`\n",
        "* Divisão `x / y`\n",
        "* Divisão desconsiderando a parte fracionária `x // y`\n",
        "* Resto de uma divisão `x % y`\n",
        "* Absoluto `abs(x)`\n",
        "* Converter para Inteiro `int(x)`\n",
        "* Converter para Real `float(x)`\n",
        "* Potência `x ** y`"
      ]
    },
    {
      "cell_type": "code",
      "metadata": {
        "id": "fVBwU0M2cx8D",
        "colab": {
          "base_uri": "https://localhost:8080/"
        },
        "outputId": "9bca5a34-5de4-47cf-a259-b402739de9c1"
      },
      "source": [
        "x = 10\n",
        "y = 3\n",
        "\n",
        "print('Soma: ', x + y)\n",
        "print('Subtração: ', x - y)\n",
        "print('Multiplicação: ', x * y)\n",
        "print('Divisão: ', x / y)\n",
        "print('Divisão desconsiderando a parte fracionária: ', x // y)\n",
        "print('Módulo - Resto de uma divisão: ', x % y)\n",
        "print('x elevado à y potência: ', x ** y)\n",
        "\n",
        "z = -8\n",
        "print(z)\n",
        "print('Na matemática abs() é o módulo', abs(z)) # abs() -> absoluto (somente positivo)\n",
        "print('Em programação, módulo é o resto da divisão', z%3)"
      ],
      "execution_count": 22,
      "outputs": [
        {
          "output_type": "stream",
          "text": [
            "Soma:  13\n",
            "Subtração:  7\n",
            "Multiplicação:  30\n",
            "Divisão:  3.3333333333333335\n",
            "Divisão desconsiderando a parte fracionária:  3\n",
            "Módulo - Resto de uma divisão:  1\n",
            "x elevado à y potência:  1000\n",
            "-8\n",
            "Na matemática abs() é o módulo 8\n",
            "Em programação, módulo é o resto da divisão 1\n"
          ],
          "name": "stdout"
        }
      ]
    },
    {
      "cell_type": "markdown",
      "metadata": {
        "id": "0LDSzlLJcx8E"
      },
      "source": [
        "### Arredondamento, Piso e Teto"
      ]
    },
    {
      "cell_type": "code",
      "metadata": {
        "id": "8yYkhpl9cx8E",
        "colab": {
          "base_uri": "https://localhost:8080/"
        },
        "outputId": "294b0815-ed0e-40ee-807c-19fd8ba6e387"
      },
      "source": [
        "import math # lê-se méfi\n",
        "#import math as m \n",
        "#from math import floor, ceil\n",
        "\n",
        "print('round: ', round(3.5)) # arredondamento\n",
        "\n",
        "print('floor: ', math.floor(3.53)) # flóur (piso)\n",
        "\n",
        "print('ceil: ', math.ceil(3.001)) # sioul (teto)\n",
        "\n",
        "# O round() também pode ser utilizado para \n",
        "# determinar o números de casas depois da vírgula \n",
        "# a ser apresentado\n",
        "print('round, casas: ', round(3.33156487, 3)) # 3 casas\n",
        "print('round, casas: ', round(3.33156487, 2)) # 2 casas"
      ],
      "execution_count": 28,
      "outputs": [
        {
          "output_type": "stream",
          "text": [
            "round:  4\n",
            "floor:  3\n",
            "ceil:  4\n",
            "round, casas:  3.332\n",
            "round, casas:  3.33\n"
          ],
          "name": "stdout"
        }
      ]
    },
    {
      "cell_type": "markdown",
      "metadata": {
        "id": "QQ3YuRO4cx8E"
      },
      "source": [
        "## Operadores Relacionais\n",
        "\n",
        "Uma condição é o estabelecimento de uma relação lógica entre dois elementos. Para definir uma relação lógica é necessário usar operadores relacionais. Uma relação lógica (comparação) retorna somente os valores verdadeiro ou falso."
      ]
    },
    {
      "cell_type": "markdown",
      "metadata": {
        "id": "HLENttI1cx8E"
      },
      "source": [
        "* Igual a: `x == y`\n",
        "* Maior que: `x > y`\n",
        "* Menor que: `x < y`\n",
        "* Maior ou igual a: `x >= y`\n",
        "* Menor ou igual a: `x <= y`\n",
        "* Diferente de: `x != y`"
      ]
    },
    {
      "cell_type": "code",
      "metadata": {
        "id": "iX_P5OSycx8F",
        "colab": {
          "base_uri": "https://localhost:8080/"
        },
        "outputId": "dc46f482-bac1-430a-9be5-c49fee17e6f8"
      },
      "source": [
        "x = 3\n",
        "y = 4\n",
        "print('Igual a: ', x == y)\n",
        "print('Maior que: ', x > y)\n",
        "print('Menor que: ', x < y)\n",
        "print('Maior ou igual a: ', x >= y)\n",
        "print('Menor ou igual a: ', x <= y)\n",
        "print('Diferente de: ', x != y)"
      ],
      "execution_count": 29,
      "outputs": [
        {
          "output_type": "stream",
          "text": [
            "Igual a:  False\n",
            "Maior que:  False\n",
            "Menor que:  True\n",
            "Maior ou igual a:  False\n",
            "Menor ou igual a:  True\n",
            "Diferente de:  True\n"
          ],
          "name": "stdout"
        }
      ]
    },
    {
      "cell_type": "markdown",
      "metadata": {
        "id": "t4sCpwjwcx8F"
      },
      "source": [
        "## Operadores Lógicos\n",
        "São utilizados para uma mesma tomada de decisão que necessite de mais de uma condição. Também são conhecidos como operadores booleanos. Operadores lógicos retornam somente os valores verdadeiro ou falso.\n",
        "\n",
        "| Operador Lógico | Função    | Prioridade |\n",
        "|-----------------|-----------|---------------------|\n",
        "| `NOT`           | Negação   | 1                   |\n",
        "| `AND`           | Conjunção | 2                   |\n",
        "| `OR`            | Disjunção | 3                   |"
      ]
    },
    {
      "cell_type": "code",
      "metadata": {
        "id": "lOUDnokUcx8F",
        "colab": {
          "base_uri": "https://localhost:8080/"
        },
        "outputId": "708b40eb-6d29-4a22-93c5-2f66ae26f15b"
      },
      "source": [
        "x = 1\n",
        "y = 3\n",
        "z = 5\n",
        "w = 2\n",
        "\n",
        "print(z > w and w > y)  # False\n",
        "print(z > w or w > y)   # True\n",
        "print(not y + w == z)   # False"
      ],
      "execution_count": 31,
      "outputs": [
        {
          "output_type": "stream",
          "text": [
            "False\n",
            "True\n",
            "False\n",
            "3\n"
          ],
          "name": "stdout"
        }
      ]
    },
    {
      "cell_type": "code",
      "metadata": {
        "colab": {
          "base_uri": "https://localhost:8080/"
        },
        "id": "fVlkv6WpzIgz",
        "outputId": "0e659c62-5e94-4b53-ff18-e389c0957e79"
      },
      "source": [
        "# Diferentes maneiras de importar uma biblioteca/recurso\n",
        "import math as m\n",
        "print('Raiz de 2', m.sqrt(2))\n",
        "from math import sqrt\n",
        "print(sqrt(4))"
      ],
      "execution_count": 33,
      "outputs": [
        {
          "output_type": "stream",
          "text": [
            "Raiz de 2 1.4142135623730951\n",
            "2.0\n"
          ],
          "name": "stdout"
        }
      ]
    },
    {
      "cell_type": "code",
      "metadata": {
        "colab": {
          "base_uri": "https://localhost:8080/",
          "height": 283
        },
        "id": "zDHhlufr1PCm",
        "outputId": "28089003-c1a8-4b88-deb2-37681e451289"
      },
      "source": [
        "# Só exemplificando uma entrada de dados\n",
        "import pandas as pd # biblioteca para manipular dados\n",
        "df = pd.DataFrame([9,8,6,5,5,6,9,8,4,1,7,1,-1,2])\n",
        "df.plot()"
      ],
      "execution_count": 42,
      "outputs": [
        {
          "output_type": "execute_result",
          "data": {
            "text/plain": [
              "<matplotlib.axes._subplots.AxesSubplot at 0x7fb5c1d69f90>"
            ]
          },
          "metadata": {},
          "execution_count": 42
        },
        {
          "output_type": "display_data",
          "data": {
            "image/png": "[encoded data removed]",
            "text/plain": [
              "<Figure size 432x288 with 1 Axes>"
            ]
          },
          "metadata": {
            "needs_background": "light"
          }
        }
      ]
    },
    {
      "cell_type": "code",
      "metadata": {
        "id": "SM6stnrMzwLk"
      },
      "source": [
        ""
      ],
      "execution_count": null,
      "outputs": []
    },
    {
      "cell_type": "markdown",
      "metadata": {
        "id": "t0l92funcx8F"
      },
      "source": [
        "## Exercícios de fixação"
      ]
    },
    {
      "cell_type": "code",
      "metadata": {
        "id": "YxAzRIUvcx8G",
        "colab": {
          "base_uri": "https://localhost:8080/"
        },
        "outputId": "15dea7a6-d935-4537-a3c4-eee73411e8cb"
      },
      "source": [
        "# Faça a leitura pelo teclado de três variáveis (a, b e c) \n",
        "# e mostre o resultado para: a + b - c + (a * c) / a ** 2\n",
        "a = int(input('a: '))\n",
        "b = int(input('b: '))\n",
        "c = int(input('c: '))\n",
        "\n",
        "print(a + b - c + (a * c) / a ** 2)"
      ],
      "execution_count": 44,
      "outputs": [
        {
          "output_type": "stream",
          "text": [
            "a: 2\n",
            "b: 3\n",
            "c: 5\n",
            "2.5\n"
          ],
          "name": "stdout"
        }
      ]
    },
    {
      "cell_type": "code",
      "metadata": {
        "id": "Nr-G9YNRcx8G",
        "colab": {
          "base_uri": "https://localhost:8080/"
        },
        "outputId": "0d7b8cbe-d642-4c61-8862-b27ffecc5224"
      },
      "source": [
        "# Calcular a área de um cubo\n",
        "lado = input(\"Digite o lado da face do cubo: \")\n",
        "Af = int(lado) ** 2 # calcula a área da face dado o tamanho da aresta\n",
        "area_total = 6 * Af\n",
        "print(area_total)"
      ],
      "execution_count": 46,
      "outputs": [
        {
          "output_type": "stream",
          "text": [
            "Digite o lado da face do cubo: 5\n",
            "150\n"
          ],
          "name": "stdout"
        }
      ]
    },
    {
      "cell_type": "code",
      "metadata": {
        "id": "_djp6CMScx8G",
        "colab": {
          "base_uri": "https://localhost:8080/"
        },
        "outputId": "a5166715-f738-4185-8c67-8bb3c552ab1d"
      },
      "source": [
        "# Mostre os resultados das operações com as casas \n",
        "# decimais determinadas:\n",
        "print( round((78 / 35), 3))              # três (2.229)\n",
        "#print(-5 / 9)               # cinco (-0.55556)\n",
        "print( round(float(\"122\") / int(float(\"49.2\")), 2))  # duas (2.48)\n",
        "#print(\"2.334\" * \"2.5678\")   # três (5.993)\n",
        "\n",
        "int(float(\"49.99\"))"
      ],
      "execution_count": 53,
      "outputs": [
        {
          "output_type": "stream",
          "text": [
            "2.229\n",
            "2.49\n"
          ],
          "name": "stdout"
        },
        {
          "output_type": "execute_result",
          "data": {
            "text/plain": [
              "49"
            ]
          },
          "metadata": {},
          "execution_count": 53
        }
      ]
    },
    {
      "cell_type": "code",
      "metadata": {
        "colab": {
          "base_uri": "https://localhost:8080/",
          "height": 35
        },
        "id": "d-pow4yV9CF_",
        "outputId": "a5c23274-e0ae-4a96-f791-ebe3e7c82cae"
      },
      "source": [
        "\"par\" if 10 < 30 else \"impar\""
      ],
      "execution_count": 54,
      "outputs": [
        {
          "output_type": "execute_result",
          "data": {
            "application/vnd.google.colaboratory.intrinsic+json": {
              "type": "string"
            },
            "text/plain": [
              "'par'"
            ]
          },
          "metadata": {},
          "execution_count": 54
        }
      ]
    },
    {
      "cell_type": "code",
      "metadata": {
        "id": "_SZtqmpf-ORu"
      },
      "source": [
        ""
      ],
      "execution_count": null,
      "outputs": []
    }
  ]
}