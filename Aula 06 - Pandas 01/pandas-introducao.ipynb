{
  "nbformat": 4,
  "nbformat_minor": 0,
  "metadata": {
    "colab": {
      "name": "_aula_sex_m_24092021.ipynb",
      "provenance": [],
      "collapsed_sections": []
    },
    "kernelspec": {
      "name": "python3",
      "display_name": "Python 3"
    },
    "language_info": {
      "name": "python"
    }
  },
  "cells": [
    {
      "cell_type": "markdown",
      "metadata": {
        "id": "Jp64VOhbz-OJ"
      },
      "source": [
        "# Introdução ao Pandas\n",
        "\n",
        "**Objetivos**: Apresentar a biblioteca pandas, importação de dados e DataFrame.\n",
        "\n",
        "**Documentação Oficial**: [https://pandas.pydata.org/pandas-docs/stable/](https://pandas.pydata.org/pandas-docs/stable/)"
      ]
    },
    {
      "cell_type": "markdown",
      "metadata": {
        "id": "jBE3rzu04vDL"
      },
      "source": [
        "# Dados Tabulares\n",
        "\n",
        "* Primeira linha: Cabeçalho (**Header**)\n",
        "* Cada coluna: uma variável (**Variable**)\n",
        "* Cada linha: uma observação (**Observation**)\n",
        "* Cada tabela (arquivo): um nível de observação (**Level**)\n",
        "\n",
        "![dados-tabulares](https://github.com/storopoli/ciencia-de-dados/raw/43404ae05468c2985b19a92fe97bd05da1418d93/notebooks/images/dados-tabulares.png)"
      ]
    },
    {
      "cell_type": "markdown",
      "metadata": {
        "id": "oIdpUb6M7zVU"
      },
      "source": [
        "# Elementos do Pandas\n",
        "\n",
        "* DataFrame: Tabela de dados\n",
        "    * Conjunto de *Series*\n",
        "    * Todas compartilhando do mesmo índice (*index*)\n",
        "\n",
        "* Series: Coluna do DataFrame\n",
        "    * *arrays* em 1-D\n",
        "    * Composta por:\n",
        "        * Sequência de valores\n",
        "            * *numeric*\n",
        "            * *string*\n",
        "            * *bool*\n",
        "        * Sequência de *index*\n",
        "\n",
        "![series](https://camo.githubusercontent.com/9b477fd8465dd28bd62e464d871af5339b68f0ac/68747470733a2f2f6d656469612e6765656b73666f726765656b732e6f72672f77702d636f6e74656e742f75706c6f6164732f32303230303232353137303530362f70616e6461732d7365726965732e706e67)"
      ]
    },
    {
      "cell_type": "markdown",
      "metadata": {
        "id": "woVbcQkT2ITv"
      },
      "source": [
        "![pandas](https://raw.githubusercontent.com/storopoli/ciencia-de-dados/43404ae05468c2985b19a92fe97bd05da1418d93/notebooks/images/pandas-df.svg)\n",
        "\n"
      ]
    },
    {
      "cell_type": "markdown",
      "metadata": {
        "id": "4iou5_zwtdF-"
      },
      "source": [
        "# Tipos de Dados\n",
        "\n",
        "| Pandas dtype    | Python type    | NumPy type                                | Uso                                                   |\n",
        "|-----------------|----------------|-------------------------------------------|-------------------------------------------------------|\n",
        "| `object`        | `str` ou misto | *string_*, *unicode_*, misto              | Texto ou misto de valores `numeric` and `non-numeric` |\n",
        "| `int64`         | `int`          | *int_*, `int8`, `int16`, `int32`, `int64` | Número Inteiros                                       |\n",
        "| `float64`       | `float`        | *float_*, `float16`, `float32`, `float64` | Número Reais                                          |\n",
        "| `bool`          | `bool`         | `bool`                                    | Verdadeiro ou Falso                                   |\n",
        "| `datetime64`    | NA             | `datetime64[ns]`                          | Data e Hora                                           |\n",
        "| `timedelta[ns]` | NA             | NA                                        | Diferença entre duas `datetimes`                      |\n",
        "| `category`      | NA             | NA                                        | Lista Finita de Valores em Texto                      |"
      ]
    },
    {
      "cell_type": "markdown",
      "metadata": {
        "id": "cf4xM8s5rUOg"
      },
      "source": [
        "# Importação da biblioteca\n",
        "\n",
        "`import pandas as pd`\n",
        "\n",
        "Observação: `as pd` significa atribuir um **apelido** para a biblioteca. Neste caso, `pd` é o apelido e vem depois da palavra `as`."
      ]
    },
    {
      "cell_type": "code",
      "metadata": {
        "id": "JxOUvl8grQ4G"
      },
      "source": [
        "import pandas as pd"
      ],
      "execution_count": 1,
      "outputs": []
    },
    {
      "cell_type": "markdown",
      "metadata": {
        "id": "tqQouv1mtL13"
      },
      "source": [
        "# Importação de dados\n",
        "\n",
        "![i-o](https://github.com/storopoli/ciencia-de-dados/raw/43404ae05468c2985b19a92fe97bd05da1418d93/notebooks/images/pandas-io.svg)\n",
        "\n",
        "\n",
        "| Formato   | Input                 | Output            | Observação                     |\n",
        "| --------- | --------------------- | ----------------- | ------------------------------ |\n",
        "| CSV       | `pd.read_csv()`       | `.to_csv()`       | Arquivo Texto CSV, TSV, etc    |\n",
        "| XLS/XLSX  | `pd.read_excel()`     | `.to_excel()`     | Planilha                       |\n",
        "| HDF       | `pd.read_hdf()`       | `.to_hdf()`       | HDF5 database                  |\n",
        "| SQL       | `pd.read_sql()`       | `.to_sql()`       | SQL table                      |\n",
        "| JSON      | `pd.read_json()`      | `.to_json()`      | JavaScript Object Notation     |\n",
        "| MSGPACK   | `pd.read_msgpack()`   | `.to_msgpack()`   | Portable binary format         |\n",
        "| HTML      | `pd.read_html()`      | `.to_html()`      | código HTML                    |\n",
        "| GBQ       | `pd.read_gbq()`       | `.to_gbq()`       | Google Big Query format        |\n",
        "| DTA       | `pd.read_stata()`     | `.to_stata()`     | Stata                          |\n",
        "| Parquet   | `pd.read_parquet()`   | `.to_parquet()`   | Apache Parquet                 |\n",
        "| Feather   | `pd.read_feather()`   | `.to_feather()`   | Apache Arrow                   |\n",
        "| Qualquer  | `pd.read_clipboard()` | `.to_clipboard()` | Ex., de pág HTML               |\n",
        "| Qualquer  | `pd.read_pickle()`    | `.to_pickle()`    | (Structured) Python object     |"
      ]
    },
    {
      "cell_type": "markdown",
      "metadata": {
        "id": "F54kYfcRuMXE"
      },
      "source": [
        "# Importando arquivos CSV (dados separados por vírgulas)\n",
        "\n",
        "Se atentar com os seguintes argumentos de [`pd.read_csv()`](https://pandas.pydata.org/pandas-docs/stable/reference/api/pandas.read_csv.html):\n",
        "\n",
        "* Caminho (`path`)\n",
        "* `sep`: `','`, para europeu/brasileiro use `';'`\n",
        "* `decimal`: `'.'`, para europeu/brasileiro use `','`\n",
        "* `header`: `pandas` tenta adivinhar\n",
        "* `index_col`: `None`, mas pode ser uma coluna do arquivo (ex: 2ª coluna use `index_col=2`)\n",
        "* `names`: `None`, mas pode ser uma lista dos nomes das variáveis (colunas)\n",
        "* `skip_rows`: `None` (pular linhas)\n",
        "* `na_values`: `None`, mas pode ser qualquer string (ex: `'NA'`)\n",
        "* `thousands`: `None` mas pode ser `','` ou `'.'`\n",
        "* `encoding`\n",
        "    - `'utf8'`: padrão\n",
        "    - `'latin1'`: ç à é î ã\n",
        "\n",
        "## Importando Planilhas `Excel`\n",
        "\n",
        "Se atentar com os seguintes argumentos de [`pd.read_excel()`](https://pandas.pydata.org/pandas-docs/stable/reference/api/pandas.read_excel.html):\n",
        "* Caminho (`path`)\n",
        "* `sheet_name`: `0`, mas pode ser qualquer `string` ou `int`\n",
        "    - `sheet_name=0`: Primeira aba da planilha\n",
        "    - `sheet_name=2`: Terceira aba da planilha\n",
        "    - `sheet_name='Plan1'`: Primeira aba da planilha\n",
        "    - `sheet_name='nome_que_usuário_colocou'`"
      ]
    },
    {
      "cell_type": "markdown",
      "metadata": {
        "id": "JNDluVykulSg"
      },
      "source": [
        "___\n",
        "# Praticando...\n",
        "\n",
        "## Carregando um `dataset`"
      ]
    },
    {
      "cell_type": "code",
      "metadata": {
        "id": "yFTDpdIeLcQK"
      },
      "source": [
        "df_exemplo = pd.read_csv('/content/dataset_exemplo.csv', sep=',')"
      ],
      "execution_count": 3,
      "outputs": []
    },
    {
      "cell_type": "markdown",
      "metadata": {
        "id": "55s3kg0yvJFp"
      },
      "source": [
        "## Mostrando os dados do DataFrame\n",
        "\n",
        "* `head()` - mostra as cinco primiras linhas\n",
        "* `head(n_linhas)` - mostra as `n_linhas` informadas"
      ]
    },
    {
      "cell_type": "code",
      "metadata": {
        "id": "Jh4DqusWNxm8",
        "colab": {
          "base_uri": "https://localhost:8080/",
          "height": 206
        },
        "outputId": "b54e90ad-57b6-41c9-e9f7-3cae6bcb7422"
      },
      "source": [
        "df_exemplo.head()"
      ],
      "execution_count": 4,
      "outputs": [
        {
          "output_type": "execute_result",
          "data": {
            "text/html": [
              "<div>\n",
              "<style scoped>\n",
              "    .dataframe tbody tr th:only-of-type {\n",
              "        vertical-align: middle;\n",
              "    }\n",
              "\n",
              "    .dataframe tbody tr th {\n",
              "        vertical-align: top;\n",
              "    }\n",
              "\n",
              "    .dataframe thead th {\n",
              "        text-align: right;\n",
              "    }\n",
              "</style>\n",
              "<table border=\"1\" class=\"dataframe\">\n",
              "  <thead>\n",
              "    <tr style=\"text-align: right;\">\n",
              "      <th></th>\n",
              "      <th>ra</th>\n",
              "      <th>nome</th>\n",
              "      <th>av1</th>\n",
              "      <th>av2</th>\n",
              "    </tr>\n",
              "  </thead>\n",
              "  <tbody>\n",
              "    <tr>\n",
              "      <th>0</th>\n",
              "      <td>123</td>\n",
              "      <td>Edson</td>\n",
              "      <td>4.5</td>\n",
              "      <td>8.5</td>\n",
              "    </tr>\n",
              "    <tr>\n",
              "      <th>1</th>\n",
              "      <td>321</td>\n",
              "      <td>Patinhas</td>\n",
              "      <td>5.5</td>\n",
              "      <td>9.0</td>\n",
              "    </tr>\n",
              "    <tr>\n",
              "      <th>2</th>\n",
              "      <td>159</td>\n",
              "      <td>Donald</td>\n",
              "      <td>7.7</td>\n",
              "      <td>7.8</td>\n",
              "    </tr>\n",
              "    <tr>\n",
              "      <th>3</th>\n",
              "      <td>753</td>\n",
              "      <td>Maria</td>\n",
              "      <td>6.5</td>\n",
              "      <td>6.5</td>\n",
              "    </tr>\n",
              "    <tr>\n",
              "      <th>4</th>\n",
              "      <td>789</td>\n",
              "      <td>José</td>\n",
              "      <td>9.5</td>\n",
              "      <td>10.0</td>\n",
              "    </tr>\n",
              "  </tbody>\n",
              "</table>\n",
              "</div>"
            ],
            "text/plain": [
              "    ra      nome  av1   av2\n",
              "0  123     Edson  4.5   8.5\n",
              "1  321  Patinhas  5.5   9.0\n",
              "2  159    Donald  7.7   7.8\n",
              "3  753     Maria  6.5   6.5\n",
              "4  789      José  9.5  10.0"
            ]
          },
          "metadata": {},
          "execution_count": 4
        }
      ]
    },
    {
      "cell_type": "code",
      "metadata": {
        "colab": {
          "base_uri": "https://localhost:8080/",
          "height": 112
        },
        "id": "E7lIvNBVDUbw",
        "outputId": "5f8c464f-5fc4-4dbb-bbe9-d79b7e0ff43f"
      },
      "source": [
        "df_exemplo.head(2)"
      ],
      "execution_count": 7,
      "outputs": [
        {
          "output_type": "execute_result",
          "data": {
            "text/html": [
              "<div>\n",
              "<style scoped>\n",
              "    .dataframe tbody tr th:only-of-type {\n",
              "        vertical-align: middle;\n",
              "    }\n",
              "\n",
              "    .dataframe tbody tr th {\n",
              "        vertical-align: top;\n",
              "    }\n",
              "\n",
              "    .dataframe thead th {\n",
              "        text-align: right;\n",
              "    }\n",
              "</style>\n",
              "<table border=\"1\" class=\"dataframe\">\n",
              "  <thead>\n",
              "    <tr style=\"text-align: right;\">\n",
              "      <th></th>\n",
              "      <th>ra</th>\n",
              "      <th>nome</th>\n",
              "      <th>av1</th>\n",
              "      <th>av2</th>\n",
              "    </tr>\n",
              "  </thead>\n",
              "  <tbody>\n",
              "    <tr>\n",
              "      <th>0</th>\n",
              "      <td>123</td>\n",
              "      <td>Edson</td>\n",
              "      <td>4.5</td>\n",
              "      <td>8.5</td>\n",
              "    </tr>\n",
              "    <tr>\n",
              "      <th>1</th>\n",
              "      <td>321</td>\n",
              "      <td>Patinhas</td>\n",
              "      <td>5.5</td>\n",
              "      <td>9.0</td>\n",
              "    </tr>\n",
              "  </tbody>\n",
              "</table>\n",
              "</div>"
            ],
            "text/plain": [
              "    ra      nome  av1  av2\n",
              "0  123     Edson  4.5  8.5\n",
              "1  321  Patinhas  5.5  9.0"
            ]
          },
          "metadata": {},
          "execution_count": 7
        }
      ]
    },
    {
      "cell_type": "code",
      "metadata": {
        "colab": {
          "base_uri": "https://localhost:8080/",
          "height": 112
        },
        "id": "4_6gS40FDlxA",
        "outputId": "bddf6089-a640-4c2b-d2bb-e2349b2f4fc0"
      },
      "source": [
        "# Mostra o final do arquivo: tail() - mostra os cinco útlimos\n",
        "df_exemplo.tail(2)"
      ],
      "execution_count": 9,
      "outputs": [
        {
          "output_type": "execute_result",
          "data": {
            "text/html": [
              "<div>\n",
              "<style scoped>\n",
              "    .dataframe tbody tr th:only-of-type {\n",
              "        vertical-align: middle;\n",
              "    }\n",
              "\n",
              "    .dataframe tbody tr th {\n",
              "        vertical-align: top;\n",
              "    }\n",
              "\n",
              "    .dataframe thead th {\n",
              "        text-align: right;\n",
              "    }\n",
              "</style>\n",
              "<table border=\"1\" class=\"dataframe\">\n",
              "  <thead>\n",
              "    <tr style=\"text-align: right;\">\n",
              "      <th></th>\n",
              "      <th>ra</th>\n",
              "      <th>nome</th>\n",
              "      <th>av1</th>\n",
              "      <th>av2</th>\n",
              "    </tr>\n",
              "  </thead>\n",
              "  <tbody>\n",
              "    <tr>\n",
              "      <th>3</th>\n",
              "      <td>753</td>\n",
              "      <td>Maria</td>\n",
              "      <td>6.5</td>\n",
              "      <td>6.5</td>\n",
              "    </tr>\n",
              "    <tr>\n",
              "      <th>4</th>\n",
              "      <td>789</td>\n",
              "      <td>José</td>\n",
              "      <td>9.5</td>\n",
              "      <td>10.0</td>\n",
              "    </tr>\n",
              "  </tbody>\n",
              "</table>\n",
              "</div>"
            ],
            "text/plain": [
              "    ra   nome  av1   av2\n",
              "3  753  Maria  6.5   6.5\n",
              "4  789   José  9.5  10.0"
            ]
          },
          "metadata": {},
          "execution_count": 9
        }
      ]
    },
    {
      "cell_type": "markdown",
      "metadata": {
        "id": "13cpqcfNvjYD"
      },
      "source": [
        "## Quantos registros?\n",
        "\n",
        "* `.shape`\n",
        "    * (`linhas`, `colunas`)\n",
        "* Os elementos podem ser acessados como listas:\n",
        "    * `.shape[indice]`"
      ]
    },
    {
      "cell_type": "code",
      "metadata": {
        "id": "oAQlYX9mOqST",
        "colab": {
          "base_uri": "https://localhost:8080/"
        },
        "outputId": "e6916bf7-87af-4acf-dbf2-23742704a1c5"
      },
      "source": [
        "df_exemplo.shape"
      ],
      "execution_count": 11,
      "outputs": [
        {
          "output_type": "execute_result",
          "data": {
            "text/plain": [
              "(5, 4)"
            ]
          },
          "metadata": {},
          "execution_count": 11
        }
      ]
    },
    {
      "cell_type": "code",
      "metadata": {
        "colab": {
          "base_uri": "https://localhost:8080/"
        },
        "id": "aYuqsxWVEZjQ",
        "outputId": "cc22eb4f-96d3-4036-d6a1-397af4842fb7"
      },
      "source": [
        "df_exemplo.shape[1]"
      ],
      "execution_count": 14,
      "outputs": [
        {
          "output_type": "execute_result",
          "data": {
            "text/plain": [
              "4"
            ]
          },
          "metadata": {},
          "execution_count": 14
        }
      ]
    },
    {
      "cell_type": "markdown",
      "metadata": {
        "id": "vkLdBzmJxNsT"
      },
      "source": [
        "## Mas de que tipos são os dados?\n",
        "`.info()`"
      ]
    },
    {
      "cell_type": "code",
      "metadata": {
        "id": "3-vXZiAvO2ha",
        "colab": {
          "base_uri": "https://localhost:8080/"
        },
        "outputId": "2320e310-0fca-48bf-f985-072c96feacc8"
      },
      "source": [
        "df_exemplo.info()"
      ],
      "execution_count": 15,
      "outputs": [
        {
          "output_type": "stream",
          "name": "stdout",
          "text": [
            "<class 'pandas.core.frame.DataFrame'>\n",
            "RangeIndex: 5 entries, 0 to 4\n",
            "Data columns (total 4 columns):\n",
            " #   Column  Non-Null Count  Dtype  \n",
            "---  ------  --------------  -----  \n",
            " 0   ra      5 non-null      int64  \n",
            " 1   nome    5 non-null      object \n",
            " 2   av1     5 non-null      float64\n",
            " 3   av2     5 non-null      float64\n",
            "dtypes: float64(2), int64(1), object(1)\n",
            "memory usage: 288.0+ bytes\n"
          ]
        }
      ]
    },
    {
      "cell_type": "markdown",
      "metadata": {
        "id": "xgjntb6owZU9"
      },
      "source": [
        "## Obtendo dados estatísticos sobre o DataFrame\n",
        "\n",
        "* `.describe()`"
      ]
    },
    {
      "cell_type": "code",
      "metadata": {
        "id": "o3ydr1lfPvMg",
        "colab": {
          "base_uri": "https://localhost:8080/",
          "height": 300
        },
        "outputId": "ff17e74d-d685-4b77-bf48-db40e241cd97"
      },
      "source": [
        "df_exemplo.describe()"
      ],
      "execution_count": 16,
      "outputs": [
        {
          "output_type": "execute_result",
          "data": {
            "text/html": [
              "<div>\n",
              "<style scoped>\n",
              "    .dataframe tbody tr th:only-of-type {\n",
              "        vertical-align: middle;\n",
              "    }\n",
              "\n",
              "    .dataframe tbody tr th {\n",
              "        vertical-align: top;\n",
              "    }\n",
              "\n",
              "    .dataframe thead th {\n",
              "        text-align: right;\n",
              "    }\n",
              "</style>\n",
              "<table border=\"1\" class=\"dataframe\">\n",
              "  <thead>\n",
              "    <tr style=\"text-align: right;\">\n",
              "      <th></th>\n",
              "      <th>ra</th>\n",
              "      <th>av1</th>\n",
              "      <th>av2</th>\n",
              "    </tr>\n",
              "  </thead>\n",
              "  <tbody>\n",
              "    <tr>\n",
              "      <th>count</th>\n",
              "      <td>5.000000</td>\n",
              "      <td>5.000000</td>\n",
              "      <td>5.000000</td>\n",
              "    </tr>\n",
              "    <tr>\n",
              "      <th>mean</th>\n",
              "      <td>429.000000</td>\n",
              "      <td>6.740000</td>\n",
              "      <td>8.360000</td>\n",
              "    </tr>\n",
              "    <tr>\n",
              "      <th>std</th>\n",
              "      <td>321.238229</td>\n",
              "      <td>1.946279</td>\n",
              "      <td>1.312631</td>\n",
              "    </tr>\n",
              "    <tr>\n",
              "      <th>min</th>\n",
              "      <td>123.000000</td>\n",
              "      <td>4.500000</td>\n",
              "      <td>6.500000</td>\n",
              "    </tr>\n",
              "    <tr>\n",
              "      <th>25%</th>\n",
              "      <td>159.000000</td>\n",
              "      <td>5.500000</td>\n",
              "      <td>7.800000</td>\n",
              "    </tr>\n",
              "    <tr>\n",
              "      <th>50%</th>\n",
              "      <td>321.000000</td>\n",
              "      <td>6.500000</td>\n",
              "      <td>8.500000</td>\n",
              "    </tr>\n",
              "    <tr>\n",
              "      <th>75%</th>\n",
              "      <td>753.000000</td>\n",
              "      <td>7.700000</td>\n",
              "      <td>9.000000</td>\n",
              "    </tr>\n",
              "    <tr>\n",
              "      <th>max</th>\n",
              "      <td>789.000000</td>\n",
              "      <td>9.500000</td>\n",
              "      <td>10.000000</td>\n",
              "    </tr>\n",
              "  </tbody>\n",
              "</table>\n",
              "</div>"
            ],
            "text/plain": [
              "               ra       av1        av2\n",
              "count    5.000000  5.000000   5.000000\n",
              "mean   429.000000  6.740000   8.360000\n",
              "std    321.238229  1.946279   1.312631\n",
              "min    123.000000  4.500000   6.500000\n",
              "25%    159.000000  5.500000   7.800000\n",
              "50%    321.000000  6.500000   8.500000\n",
              "75%    753.000000  7.700000   9.000000\n",
              "max    789.000000  9.500000  10.000000"
            ]
          },
          "metadata": {},
          "execution_count": 16
        }
      ]
    },
    {
      "cell_type": "code",
      "metadata": {
        "id": "LrUizrnXQ6jY",
        "colab": {
          "base_uri": "https://localhost:8080/",
          "height": 282
        },
        "outputId": "a1261d45-d1fa-48a8-b18f-a21f3780e0e0"
      },
      "source": [
        "# mostrando um gráfico fast-food\n",
        "df_exemplo.plot()"
      ],
      "execution_count": 20,
      "outputs": [
        {
          "output_type": "execute_result",
          "data": {
            "text/plain": [
              "<matplotlib.axes._subplots.AxesSubplot at 0x7f0f4f913e50>"
            ]
          },
          "metadata": {},
          "execution_count": 20
        },
        {
          "output_type": "display_data",
          "data": {
            "image/png": "[encoded data removed]",
            "text/plain": [
              "<Figure size 432x288 with 1 Axes>"
            ]
          },
          "metadata": {
            "needs_background": "light"
          }
        }
      ]
    },
    {
      "cell_type": "code",
      "metadata": {
        "colab": {
          "base_uri": "https://localhost:8080/",
          "height": 206
        },
        "id": "vK3QOXteHVky",
        "outputId": "1aac5e18-f68c-4a8e-8311-8ad69d02f485"
      },
      "source": [
        "# Vamos carregar agora o dataset 'excel'\n",
        "df_excel = pd.read_excel('/content/dataset_exemplo.xlsx')\n",
        "df_excel.head()"
      ],
      "execution_count": 21,
      "outputs": [
        {
          "output_type": "execute_result",
          "data": {
            "text/html": [
              "<div>\n",
              "<style scoped>\n",
              "    .dataframe tbody tr th:only-of-type {\n",
              "        vertical-align: middle;\n",
              "    }\n",
              "\n",
              "    .dataframe tbody tr th {\n",
              "        vertical-align: top;\n",
              "    }\n",
              "\n",
              "    .dataframe thead th {\n",
              "        text-align: right;\n",
              "    }\n",
              "</style>\n",
              "<table border=\"1\" class=\"dataframe\">\n",
              "  <thead>\n",
              "    <tr style=\"text-align: right;\">\n",
              "      <th></th>\n",
              "      <th>ra</th>\n",
              "      <th>nome</th>\n",
              "      <th>av1</th>\n",
              "      <th>av2</th>\n",
              "    </tr>\n",
              "  </thead>\n",
              "  <tbody>\n",
              "    <tr>\n",
              "      <th>0</th>\n",
              "      <td>123</td>\n",
              "      <td>Edson</td>\n",
              "      <td>4.5</td>\n",
              "      <td>8.5</td>\n",
              "    </tr>\n",
              "    <tr>\n",
              "      <th>1</th>\n",
              "      <td>321</td>\n",
              "      <td>Patinhas</td>\n",
              "      <td>5.5</td>\n",
              "      <td>9.0</td>\n",
              "    </tr>\n",
              "    <tr>\n",
              "      <th>2</th>\n",
              "      <td>159</td>\n",
              "      <td>Donald</td>\n",
              "      <td>7.7</td>\n",
              "      <td>7.8</td>\n",
              "    </tr>\n",
              "    <tr>\n",
              "      <th>3</th>\n",
              "      <td>753</td>\n",
              "      <td>Maria</td>\n",
              "      <td>6.5</td>\n",
              "      <td>6.5</td>\n",
              "    </tr>\n",
              "    <tr>\n",
              "      <th>4</th>\n",
              "      <td>789</td>\n",
              "      <td>José</td>\n",
              "      <td>9.5</td>\n",
              "      <td>10.0</td>\n",
              "    </tr>\n",
              "  </tbody>\n",
              "</table>\n",
              "</div>"
            ],
            "text/plain": [
              "    ra      nome  av1   av2\n",
              "0  123     Edson  4.5   8.5\n",
              "1  321  Patinhas  5.5   9.0\n",
              "2  159    Donald  7.7   7.8\n",
              "3  753     Maria  6.5   6.5\n",
              "4  789      José  9.5  10.0"
            ]
          },
          "metadata": {},
          "execution_count": 21
        }
      ]
    },
    {
      "cell_type": "code",
      "metadata": {
        "colab": {
          "base_uri": "https://localhost:8080/",
          "height": 206
        },
        "id": "u4L-GfvJIJ1g",
        "outputId": "1d6dfdff-3b7d-4151-f344-cc38aa9af339"
      },
      "source": [
        "df_exemplo"
      ],
      "execution_count": 22,
      "outputs": [
        {
          "output_type": "execute_result",
          "data": {
            "text/html": [
              "<div>\n",
              "<style scoped>\n",
              "    .dataframe tbody tr th:only-of-type {\n",
              "        vertical-align: middle;\n",
              "    }\n",
              "\n",
              "    .dataframe tbody tr th {\n",
              "        vertical-align: top;\n",
              "    }\n",
              "\n",
              "    .dataframe thead th {\n",
              "        text-align: right;\n",
              "    }\n",
              "</style>\n",
              "<table border=\"1\" class=\"dataframe\">\n",
              "  <thead>\n",
              "    <tr style=\"text-align: right;\">\n",
              "      <th></th>\n",
              "      <th>ra</th>\n",
              "      <th>nome</th>\n",
              "      <th>av1</th>\n",
              "      <th>av2</th>\n",
              "    </tr>\n",
              "  </thead>\n",
              "  <tbody>\n",
              "    <tr>\n",
              "      <th>0</th>\n",
              "      <td>123</td>\n",
              "      <td>Edson</td>\n",
              "      <td>4.5</td>\n",
              "      <td>8.5</td>\n",
              "    </tr>\n",
              "    <tr>\n",
              "      <th>1</th>\n",
              "      <td>321</td>\n",
              "      <td>Patinhas</td>\n",
              "      <td>5.5</td>\n",
              "      <td>9.0</td>\n",
              "    </tr>\n",
              "    <tr>\n",
              "      <th>2</th>\n",
              "      <td>159</td>\n",
              "      <td>Donald</td>\n",
              "      <td>7.7</td>\n",
              "      <td>7.8</td>\n",
              "    </tr>\n",
              "    <tr>\n",
              "      <th>3</th>\n",
              "      <td>753</td>\n",
              "      <td>Maria</td>\n",
              "      <td>6.5</td>\n",
              "      <td>6.5</td>\n",
              "    </tr>\n",
              "    <tr>\n",
              "      <th>4</th>\n",
              "      <td>789</td>\n",
              "      <td>José</td>\n",
              "      <td>9.5</td>\n",
              "      <td>10.0</td>\n",
              "    </tr>\n",
              "  </tbody>\n",
              "</table>\n",
              "</div>"
            ],
            "text/plain": [
              "    ra      nome  av1   av2\n",
              "0  123     Edson  4.5   8.5\n",
              "1  321  Patinhas  5.5   9.0\n",
              "2  159    Donald  7.7   7.8\n",
              "3  753     Maria  6.5   6.5\n",
              "4  789      José  9.5  10.0"
            ]
          },
          "metadata": {},
          "execution_count": 22
        }
      ]
    },
    {
      "cell_type": "code",
      "metadata": {
        "id": "lK8O00b-Qi9_"
      },
      "source": [
        ""
      ],
      "execution_count": null,
      "outputs": []
    }
  ]
}