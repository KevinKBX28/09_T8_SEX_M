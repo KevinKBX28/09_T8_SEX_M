{
  "nbformat": 4,
  "nbformat_minor": 0,
  "metadata": {
    "colab": {
      "name": "resolucao_desafio.ipynb",
      "provenance": [],
      "collapsed_sections": []
    },
    "kernelspec": {
      "name": "python3",
      "display_name": "Python 3"
    },
    "language_info": {
      "name": "python"
    }
  },
  "cells": [
    {
      "cell_type": "code",
      "metadata": {
        "id": "QCi0BOKnq5CT"
      },
      "source": [
        "alunos = [] # isso é uma lista\n",
        "\n",
        "alunos.append({'nome': 'Aluno 01', 'curso': 'Ciências da Computação', 'AV1':9.9 })\n",
        "alunos.append({'nome': 'Aluno 02', 'curso': 'Sistemas de Informação', 'AV1':7 })\n",
        "alunos.append({'nome': 'Aluno 03', 'curso': 'Sistemas de Informação', 'AV1':6 })\n",
        "alunos.append({'nome': 'Aluno 04', 'curso': 'Sistemas de Informação', 'AV1':6 })\n",
        "alunos.append({'nome': 'Aluno 05', 'curso': 'Sistemas de Informação', 'AV1':6 })\n",
        "alunos.append({'nome': 'Aluno 06', 'curso': 'Análise e Desenvolvimento de Sistemas', 'AV1':7 })\n",
        "alunos.append({'nome': 'Aluno 07', 'curso': 'Análise e Desenvolvimento de Sistemas', 'AV1':9 })\n",
        "alunos.append({'nome': 'Aluno 08', 'curso': 'Ciências da Computação', 'AV1':10 })\n",
        "alunos.append({'nome': 'Aluno 09', 'curso': 'Ciências da Computação', 'AV1':10 })\n",
        "alunos.append({'nome': 'Aluno 10', 'curso': 'Ciências da Computação', 'AV1':4 })\n",
        "alunos.append({'nome': 'Aluno 11', 'curso': 'Análise e Desenvolvimento de Sistemas', 'AV1':5 })\n",
        "alunos.append({'nome': 'Aluno 11', 'curso': 'Análise e Desenvolvimento de Sistemas', 'AV1':5 })\n",
        "alunos.append({'nome': 'Aluno 12', 'curso': 'Análise e Desenvolvimento de Sistemas', 'AV1':9 })\n",
        "alunos.append({'nome': 'Aluno 13', 'curso': 'Análise e Desenvolvimento de Sistemas', 'AV1':9 })\n",
        "alunos.append({'nome': 'Aluno 14', 'curso': 'Ciências da Computação', 'AV1': 7})\n",
        "alunos.append({'nome': 'Aluno 15', 'curso': 'Análise e Desenvolvimento de Sistemas', 'AV1':7})\n",
        "alunos.append({'nome': 'Aluno 16', 'curso': 'Ciências da Computação', 'AV1': 6})\n",
        "alunos.append({'nome': 'Aluno 17', 'curso': 'Análise e Desenvolvimento de Sistemas', 'AV1':8 })\n",
        "alunos.append({'nome': 'Aluno 18', 'curso': 'Ciências da Computação', 'AV1':4 })\n",
        "alunos.append({'nome': 'Aluno 19', 'curso': 'Sistemas de Informação', 'AV1':2 })\n",
        "alunos.append({'nome': 'Aluno 20', 'curso': 'Análise e Desenvolvimento de Sistemas', 'AV1':9 })\n",
        "# alunos.append({'nome': 'Aluno 21', 'curso': 'Medicina', 'AV1':9 })\n",
        "# alunos.append({'nome': 'Aluno 22', 'curso': 'Medicina', 'AV1':4 })\n",
        "# alunos.append({'nome': 'Aluno 23', 'curso': 'gastronomia', 'AV1':7.5 })\n",
        "# alunos.append({'nome': 'Aluno 23', 'curso': 'gastronomia', 'AV1':5.5 })\n",
        "# alunos.append({'nome': 'Aluno 23', 'curso': 'gastronomia', 'AV1':3.5 })\n",
        "# alunos.append({'nome': 'Aluno 23', 'curso': 'gastronomia', 'AV1':6.7 })"
      ],
      "execution_count": 42,
      "outputs": []
    },
    {
      "cell_type": "code",
      "metadata": {
        "id": "Bwj8aAYjr6tO"
      },
      "source": [
        "# DESAFIO\n",
        "# Construa um algoritmo que mostre de uma só vez os resultados \n",
        "# para os respectivos cursos: Menor nota, Maior nota e Média das notas"
      ],
      "execution_count": 43,
      "outputs": []
    },
    {
      "cell_type": "code",
      "metadata": {
        "id": "CKHmK9pgsuzQ"
      },
      "source": [
        "# resolução 1 (métodos do dicionário)\n",
        "# chaves: curso e AV1 (notas)\n",
        "notas = [[]]\n",
        "cursos = {\"Notas Gerais\": 0} # guarda os cursos (notas)\n",
        "num = 1 # controlar a quantidade de cursos (índice da lista)\n",
        "\n",
        "for aluno in alunos:\n",
        "  if aluno.get('curso') not in cursos: # elimina a necessidade do set()\n",
        "    cursos[aluno.get('curso')] = num # cria uma chave no dicionário para cada curso\n",
        "    num += 1\n",
        "    notas.append([]) # cria uma lista vazia para cada curso\n",
        "\n",
        "  #    0   1   2   3\n",
        "  # [ [], [], [], [] ]\n",
        "  # adicionar as notas em cada um dos grupos\n",
        "  notas[0].append(aluno.get('AV1')) # pega a nota de todos os alunos\n",
        "  notas[cursos.get(aluno.get('curso'))].append(aluno.get('AV1'))\n",
        "\n",
        "for indice in range(0, len(notas)):\n",
        "  print( ('' if indice == 0 else 'Curso: '), list(cursos)[indice])\n",
        "  print( ('' if indice == 0 else 'Notas: '), notas[indice])\n",
        "  print('A maior nota é: ', max(notas[indice]))\n",
        "  print('A menor nota é: ', min(notas[indice]))\n",
        "  print('A média é.....: ', round(sum(notas[indice])/len(notas[indice]),2 ) )\n",
        "  print()\n",
        "notas  "
      ],
      "execution_count": null,
      "outputs": []
    },
    {
      "cell_type": "code",
      "metadata": {
        "id": "i1mLdwthzDu_"
      },
      "source": [
        "# resolução 2 - feita por um aluno \n",
        "cursos = []\n",
        "for aluno in alunos:\n",
        "  if (aluno['curso'] not in cursos):\n",
        "    cursos.append(aluno['curso'])\n",
        "\n",
        "cursos.sort()\n",
        "\n",
        "# Proposta, melhorar esse algoritmo para guardar as notas\n",
        "for curso in cursos:\n",
        "  notas = [] # uma lista para cada curso\n",
        "  for aluno in alunos:\n",
        "    if (aluno['curso'] == curso):\n",
        "      notas.append(aluno['AV1'])\n",
        "\n",
        "  print('Curso.........: ', curso)\n",
        "  print('Notas.........: ', notas)\n",
        "  print('A maior nota é: ', max(notas))\n",
        "  print('A menor nota é: ', min(notas))\n",
        "  print('A média é.....: ', round(sum(notas)/len(notas),2 ) )\n",
        "  print()"
      ],
      "execution_count": null,
      "outputs": []
    },
    {
      "cell_type": "code",
      "metadata": {
        "id": "uRJ2ily48224"
      },
      "source": [
        "# resolução 3\n",
        "from collections import defaultdict\n",
        "dados = defaultdict(list)\n",
        "\n",
        "[ dados[aluno.get('curso')].append(aluno.get('AV1')) for aluno in alunos]\n",
        "\n",
        "for curso in dados.items():\n",
        "  print('Curso.........: ', curso[0])\n",
        "  print('Notas.........: ', curso[1])\n",
        "  print('A maior nota é: ', max(curso[1]))\n",
        "  print('A menor nota é: ', min(curso[1]))\n",
        "  print('A média é.....: ', round(sum(curso[1])/len(curso[1]),2 ) )\n",
        "  print()"
      ],
      "execution_count": null,
      "outputs": []
    },
    {
      "cell_type": "code",
      "metadata": {
        "id": "XaTRhP-7AYUR"
      },
      "source": [
        ""
      ],
      "execution_count": null,
      "outputs": []
    }
  ]
}